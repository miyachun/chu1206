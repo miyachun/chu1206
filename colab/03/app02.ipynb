{
  "nbformat": 4,
  "nbformat_minor": 0,
  "metadata": {
    "colab": {
      "provenance": []
    },
    "kernelspec": {
      "name": "python3",
      "display_name": "Python 3"
    },
    "language_info": {
      "name": "python"
    }
  },
  "cells": [
    {
      "cell_type": "code",
      "source": [
        "!pip install flask\n",
        "!pip install flask-ngrok\n",
        "!pip install pyngrok\n",
        "!ngrok authtoken XXX"
      ],
      "metadata": {
        "colab": {
          "base_uri": "https://localhost:8080/"
        },
        "id": "z1X5XuloV0u8",
        "outputId": "a5a92d4f-5441-4cbb-919b-2164f3d84254"
      },
      "execution_count": 3,
      "outputs": [
        {
          "output_type": "stream",
          "name": "stdout",
          "text": [
            "Requirement already satisfied: flask in /usr/local/lib/python3.10/dist-packages (2.2.5)\n",
            "Requirement already satisfied: Werkzeug>=2.2.2 in /usr/local/lib/python3.10/dist-packages (from flask) (3.0.1)\n",
            "Requirement already satisfied: Jinja2>=3.0 in /usr/local/lib/python3.10/dist-packages (from flask) (3.1.2)\n",
            "Requirement already satisfied: itsdangerous>=2.0 in /usr/local/lib/python3.10/dist-packages (from flask) (2.1.2)\n",
            "Requirement already satisfied: click>=8.0 in /usr/local/lib/python3.10/dist-packages (from flask) (8.1.7)\n",
            "Requirement already satisfied: MarkupSafe>=2.0 in /usr/local/lib/python3.10/dist-packages (from Jinja2>=3.0->flask) (2.1.3)\n",
            "Requirement already satisfied: flask-ngrok in /usr/local/lib/python3.10/dist-packages (0.0.25)\n",
            "Requirement already satisfied: Flask>=0.8 in /usr/local/lib/python3.10/dist-packages (from flask-ngrok) (2.2.5)\n",
            "Requirement already satisfied: requests in /usr/local/lib/python3.10/dist-packages (from flask-ngrok) (2.31.0)\n",
            "Requirement already satisfied: Werkzeug>=2.2.2 in /usr/local/lib/python3.10/dist-packages (from Flask>=0.8->flask-ngrok) (3.0.1)\n",
            "Requirement already satisfied: Jinja2>=3.0 in /usr/local/lib/python3.10/dist-packages (from Flask>=0.8->flask-ngrok) (3.1.2)\n",
            "Requirement already satisfied: itsdangerous>=2.0 in /usr/local/lib/python3.10/dist-packages (from Flask>=0.8->flask-ngrok) (2.1.2)\n",
            "Requirement already satisfied: click>=8.0 in /usr/local/lib/python3.10/dist-packages (from Flask>=0.8->flask-ngrok) (8.1.7)\n",
            "Requirement already satisfied: charset-normalizer<4,>=2 in /usr/local/lib/python3.10/dist-packages (from requests->flask-ngrok) (3.3.2)\n",
            "Requirement already satisfied: idna<4,>=2.5 in /usr/local/lib/python3.10/dist-packages (from requests->flask-ngrok) (3.6)\n",
            "Requirement already satisfied: urllib3<3,>=1.21.1 in /usr/local/lib/python3.10/dist-packages (from requests->flask-ngrok) (2.0.7)\n",
            "Requirement already satisfied: certifi>=2017.4.17 in /usr/local/lib/python3.10/dist-packages (from requests->flask-ngrok) (2023.11.17)\n",
            "Requirement already satisfied: MarkupSafe>=2.0 in /usr/local/lib/python3.10/dist-packages (from Jinja2>=3.0->Flask>=0.8->flask-ngrok) (2.1.3)\n",
            "Requirement already satisfied: pyngrok in /usr/local/lib/python3.10/dist-packages (7.0.2)\n",
            "Requirement already satisfied: PyYAML in /usr/local/lib/python3.10/dist-packages (from pyngrok) (6.0.1)\n",
            "Authtoken saved to configuration file: /root/.config/ngrok/ngrok.yml\n"
          ]
        }
      ]
    },
    {
      "cell_type": "code",
      "execution_count": 4,
      "metadata": {
        "colab": {
          "base_uri": "https://localhost:8080/"
        },
        "id": "DIXoGt5cP4hD",
        "outputId": "39914be1-167e-4833-cb31-3c69a47d4eb2"
      },
      "outputs": [
        {
          "output_type": "stream",
          "name": "stdout",
          "text": [
            " * ngrok tunnel \"https://2550-34-125-203-156.ngrok-free.app\" -> \"http://127.0.0.1:5000\"\n",
            " * Serving Flask app '__main__'\n",
            " * Debug mode: off\n"
          ]
        },
        {
          "output_type": "stream",
          "name": "stderr",
          "text": [
            "INFO:werkzeug:\u001b[31m\u001b[1mWARNING: This is a development server. Do not use it in a production deployment. Use a production WSGI server instead.\u001b[0m\n",
            " * Running on http://127.0.0.1:5000\n",
            "INFO:werkzeug:\u001b[33mPress CTRL+C to quit\u001b[0m\n"
          ]
        }
      ],
      "source": [
        "import xml.etree.ElementTree as ET\n",
        "from xml.dom import minidom\n",
        "import requests\n",
        "from flask import Flask, render_template, request\n",
        "\n",
        "import os\n",
        "import threading\n",
        "\n",
        "import json,urllib.request\n",
        "from pyngrok import ngrok\n",
        "\n",
        "app = Flask(__name__)\n",
        "port = \"5000\"\n",
        "\n",
        "\n",
        "public_url = ngrok.connect(port).public_url\n",
        "print(\" * ngrok tunnel \\\"{}\\\" -> \\\"http://127.0.0.1:{}\\\"\".format(public_url, port))\n",
        "\n",
        "\n",
        "app.config[\"BASE_URL\"] = public_url\n",
        "\n",
        "\n",
        "app = Flask(__name__)\n",
        "\n",
        "tree = ET.parse('bus02.xml')\n",
        "root = tree.getroot()\n",
        "\n",
        "\n",
        "getAll={\"PlateNumb\":[],\"PositionLon\":[],\"PositionLat\":[]}\n",
        "PlateNumb = {\"PlateNumb\":[]}\n",
        "PositionLon={\"PositionLon\":[]}\n",
        "PositionLat={\"PositionLat\":[]}\n",
        "\n",
        "\n",
        "Bus=[]\n",
        "ansA=[]\n",
        "bb=[]\n",
        "Lon=[]\n",
        "Lat=[]\n",
        "@app.route('/', methods=('GET', 'POST'))\n",
        "def index():\n",
        "\n",
        "    if request.method == 'POST':\n",
        "\n",
        "        dropdownval = request.form.get('Gcity')\n",
        "        bb.append(dropdownval)\n",
        "\n",
        "        for No in root.iter('{https://ptx.transportdata.tw/standard/schema/}BusA1Data'):\n",
        "            ansA.append(No[0].text)\n",
        "\n",
        "        for key, value in getAll.items():\n",
        "            for i in value:\n",
        "                if i == dropdownval:\n",
        "                    print(value.index(i))\n",
        "\n",
        "                    Lon.append(getAll['PositionLon'][value.index(i)])\n",
        "                    Lat.append(getAll['PositionLat'][value.index(i)])\n",
        "                    print(Lon,Lat)\n",
        "\n",
        "\n",
        "\n",
        "        render_template('example.html',bb=bb,Bus=Bus,Lon=Lon,Lat=Lat)\n",
        "\n",
        "    for No in root.iter('{https://ptx.transportdata.tw/standard/schema/}BusA1Data'):\n",
        "        getAll['PlateNumb'].append(No[0].text)\n",
        "        Bus.append(No[0].text)\n",
        "    for No in root.iter('{https://ptx.transportdata.tw/standard/schema/}BusPosition'):\n",
        "        getAll['PositionLon'].append(No[0].text)\n",
        "    for No in root.iter('{https://ptx.transportdata.tw/standard/schema/}BusPosition'):\n",
        "        getAll['PositionLat'].append(No[1].text)\n",
        "\n",
        "    return render_template('example.html',aa='0', Lon=Lon,Lat=Lat,getAll=getAll,Bus=Bus,bb=bb)\n",
        "\n",
        "\n",
        "threading.Thread(target=app.run, kwargs={\"use_reloader\": False}).start()"
      ]
    }
  ]
}