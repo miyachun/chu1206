{
  "nbformat": 4,
  "nbformat_minor": 0,
  "metadata": {
    "colab": {
      "provenance": []
    },
    "kernelspec": {
      "name": "python3",
      "display_name": "Python 3"
    },
    "language_info": {
      "name": "python"
    }
  },
  "cells": [
    {
      "cell_type": "code",
      "execution_count": 3,
      "metadata": {
        "colab": {
          "base_uri": "https://localhost:8080/"
        },
        "id": "9WPisY7HOx4r",
        "outputId": "ba43f6a2-4057-4a5d-bac3-7a34e3569a54"
      },
      "outputs": [
        {
          "output_type": "stream",
          "name": "stdout",
          "text": [
            "Requirement already satisfied: flask in /usr/local/lib/python3.10/dist-packages (2.2.5)\n",
            "Requirement already satisfied: Werkzeug>=2.2.2 in /usr/local/lib/python3.10/dist-packages (from flask) (3.0.1)\n",
            "Requirement already satisfied: Jinja2>=3.0 in /usr/local/lib/python3.10/dist-packages (from flask) (3.1.2)\n",
            "Requirement already satisfied: itsdangerous>=2.0 in /usr/local/lib/python3.10/dist-packages (from flask) (2.1.2)\n",
            "Requirement already satisfied: click>=8.0 in /usr/local/lib/python3.10/dist-packages (from flask) (8.1.7)\n",
            "Requirement already satisfied: MarkupSafe>=2.0 in /usr/local/lib/python3.10/dist-packages (from Jinja2>=3.0->flask) (2.1.3)\n",
            "Requirement already satisfied: flask-ngrok in /usr/local/lib/python3.10/dist-packages (0.0.25)\n",
            "Requirement already satisfied: Flask>=0.8 in /usr/local/lib/python3.10/dist-packages (from flask-ngrok) (2.2.5)\n",
            "Requirement already satisfied: requests in /usr/local/lib/python3.10/dist-packages (from flask-ngrok) (2.31.0)\n",
            "Requirement already satisfied: Werkzeug>=2.2.2 in /usr/local/lib/python3.10/dist-packages (from Flask>=0.8->flask-ngrok) (3.0.1)\n",
            "Requirement already satisfied: Jinja2>=3.0 in /usr/local/lib/python3.10/dist-packages (from Flask>=0.8->flask-ngrok) (3.1.2)\n",
            "Requirement already satisfied: itsdangerous>=2.0 in /usr/local/lib/python3.10/dist-packages (from Flask>=0.8->flask-ngrok) (2.1.2)\n",
            "Requirement already satisfied: click>=8.0 in /usr/local/lib/python3.10/dist-packages (from Flask>=0.8->flask-ngrok) (8.1.7)\n",
            "Requirement already satisfied: charset-normalizer<4,>=2 in /usr/local/lib/python3.10/dist-packages (from requests->flask-ngrok) (3.3.2)\n",
            "Requirement already satisfied: idna<4,>=2.5 in /usr/local/lib/python3.10/dist-packages (from requests->flask-ngrok) (3.6)\n",
            "Requirement already satisfied: urllib3<3,>=1.21.1 in /usr/local/lib/python3.10/dist-packages (from requests->flask-ngrok) (2.0.7)\n",
            "Requirement already satisfied: certifi>=2017.4.17 in /usr/local/lib/python3.10/dist-packages (from requests->flask-ngrok) (2023.11.17)\n",
            "Requirement already satisfied: MarkupSafe>=2.0 in /usr/local/lib/python3.10/dist-packages (from Jinja2>=3.0->Flask>=0.8->flask-ngrok) (2.1.3)\n",
            "Requirement already satisfied: pyngrok in /usr/local/lib/python3.10/dist-packages (7.0.3)\n",
            "Requirement already satisfied: PyYAML in /usr/local/lib/python3.10/dist-packages (from pyngrok) (6.0.1)\n",
            "Authtoken saved to configuration file: /root/.config/ngrok/ngrok.yml\n"
          ]
        }
      ],
      "source": [
        "!pip install flask\n",
        "!pip install flask-ngrok\n",
        "!pip install pyngrok\n",
        "!ngrok authtoken XXX"
      ]
    },
    {
      "cell_type": "code",
      "source": [
        "import os\n",
        "import threading\n",
        "from flask import Flask, render_template\n",
        "import json,urllib.request\n",
        "from pyngrok import ngrok\n",
        "\n",
        "app = Flask(__name__)\n",
        "port = \"5000\"\n",
        "\n",
        "\n",
        "public_url = ngrok.connect(port).public_url\n",
        "print(\" * ngrok tunnel \\\"{}\\\" -> \\\"http://127.0.0.1:{}\\\"\".format(public_url, port))\n",
        "\n",
        "\n",
        "app.config[\"BASE_URL\"] = public_url\n",
        "url = 'https://opendata.cwa.gov.tw/api/v1/rest/datastore/F-C0032-001?Authorization=(API_KEY)&format=JSON'\n",
        "@app.route('/')\n",
        "def index():\n",
        "    #print('aa')\n",
        "    dict_example ={\"city\":[],\"wx8\":[],\"maxt8\":[],\"mint8\":[],\"pop8\":[]}\n",
        "    data = urllib.request.urlopen(url).read()\n",
        "    output = json.loads(data)\n",
        "    location=output['records']['location']\n",
        "    for i in location:\n",
        "        city = i['locationName']    # 縣市名稱\n",
        "        wx8 = i['weatherElement'][0]['time'][0]['parameter']['parameterName']    # 天氣現象\n",
        "        maxt8 = i['weatherElement'][1]['time'][0]['parameter']['parameterName']  # 最高溫\n",
        "        mint8 = i['weatherElement'][2]['time'][0]['parameter']['parameterName']  # 最低溫\n",
        "        ci8 = i['weatherElement'][3]['time'][0]['parameter']['parameterName']    # 舒適度\n",
        "        pop8 = i['weatherElement'][4]['time'][0]['parameter']['parameterName']   # 降雨機率\n",
        "        #print(f'{city}未來 8 小時{wx8}，最高溫 {maxt8} 度，最低溫 {mint8} 度，降雨機率 {pop8} %')\n",
        "        dict_example['city'].append(city)\n",
        "        dict_example['wx8'].append(wx8)\n",
        "        dict_example['maxt8'].append(maxt8)\n",
        "        dict_example['mint8'].append(mint8)\n",
        "        dict_example['pop8'].append(pop8)\n",
        "\n",
        "    #print(dict_example)\n",
        "    return render_template('indexc.html',dict_example=dict_example)\n",
        "\n",
        "@app.route('/dropdown', methods = ['POST'])\n",
        "def dropp():\n",
        "    dropdownval = request.form.get('colour')\n",
        "    print(dropdownval)\n",
        "    #return redirect(\"/\", code=302)\n",
        "    city_example ={\"city\":[]}\n",
        "    data = urllib.request.urlopen(url).read()\n",
        "    output = json.loads(data)\n",
        "    location=output['records']['location']\n",
        "    for i in location:\n",
        "        city = i['locationName']\n",
        "        city_example['city'].append(city)\n",
        "    #print(dict_example)\n",
        "    return render_template('indexd.html',d=dropdownval)\n",
        "\n",
        "\n",
        "@app.route('/create', methods=('GET', 'POST'))\n",
        "def create():\n",
        "    if request.method == 'POST':\n",
        "        dropdownval = request.form.get('colour')\n",
        "        print(dropdownval)\n",
        "        render_template('indexe.html',d=\"ssscityexample\")\n",
        "    cityexample =[]\n",
        "    data = urllib.request.urlopen(url).read()\n",
        "    output = json.loads(data)\n",
        "    location=output['records']['location']\n",
        "    for i in location:\n",
        "        cityc = i['locationName']\n",
        "        cityexample.append(cityc)\n",
        "    return render_template('indexe.html',d=cityexample)\n",
        "\n",
        "@app.route('/findA', methods = ['POST'])\n",
        "def findA():\n",
        "    dropdownval = request.form.get('colour')\n",
        "    #print(dropdownval)\n",
        "    dict_example ={\"city\":[],\"wx8\":[],\"maxt8\":[],\"mint8\":[],\"pop8\":[]}\n",
        "    ansA=[]\n",
        "    data = urllib.request.urlopen(url).read()\n",
        "    output = json.loads(data)\n",
        "    location=output['records']['location']\n",
        "    for i in location:\n",
        "        city = i['locationName']\n",
        "        if city==dropdownval:\n",
        "            wx8 = i['weatherElement'][0]['time'][0]['parameter']['parameterName']    # 天氣現象\n",
        "            maxt8 = i['weatherElement'][1]['time'][0]['parameter']['parameterName']  # 最高溫\n",
        "            mint8 = i['weatherElement'][2]['time'][0]['parameter']['parameterName']  # 最低溫\n",
        "            ci8 = i['weatherElement'][3]['time'][0]['parameter']['parameterName']    # 舒適度\n",
        "            pop8 = i['weatherElement'][4]['time'][0]['parameter']['parameterName']   # 降雨機率\n",
        "            #print(f'{city}未來 8 小時{wx8}，最高溫 {maxt8} 度，最低溫 {mint8} 度，降雨機率 {pop8} %')\n",
        "            dict_example['city'].append(city)\n",
        "            dict_example['wx8'].append(wx8)\n",
        "            dict_example['maxt8'].append(maxt8)\n",
        "            dict_example['mint8'].append(mint8)\n",
        "            dict_example['pop8'].append(pop8)\n",
        "            ansA.append(wx8)\n",
        "            ansA.append(maxt8)\n",
        "            ansA.append(mint8)\n",
        "            ansA.append(pop8)\n",
        "    return render_template('indexf.html',d=dropdownval,dict_example=ansA)\n",
        "\n",
        "\n",
        "threading.Thread(target=app.run, kwargs={\"use_reloader\": False}).start()\n",
        "\n"
      ],
      "metadata": {
        "colab": {
          "base_uri": "https://localhost:8080/"
        },
        "id": "lfNxa0QxRU3Q",
        "outputId": "a19c1f58-cf0e-49a6-8f10-6b5f6d3e5be3"
      },
      "execution_count": 4,
      "outputs": [
        {
          "output_type": "stream",
          "name": "stdout",
          "text": [
            " * ngrok tunnel \"https://48c9-34-86-9-143.ngrok-free.app\" -> \"http://127.0.0.1:5000\"\n",
            " * Serving Flask app '__main__'\n",
            " * Debug mode: off\n"
          ]
        },
        {
          "output_type": "stream",
          "name": "stderr",
          "text": [
            "Address already in use\n",
            "Port 5000 is in use by another program. Either identify and stop that program, or start the server with a different port.\n"
          ]
        }
      ]
    }
  ]
}