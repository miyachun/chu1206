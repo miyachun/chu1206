{
  "nbformat": 4,
  "nbformat_minor": 0,
  "metadata": {
    "colab": {
      "provenance": []
    },
    "kernelspec": {
      "name": "python3",
      "display_name": "Python 3"
    },
    "language_info": {
      "name": "python"
    }
  },
  "cells": [
    {
      "cell_type": "code",
      "execution_count": 5,
      "metadata": {
        "colab": {
          "base_uri": "https://localhost:8080/"
        },
        "id": "9WPisY7HOx4r",
        "outputId": "dc1c07be-df16-4aa6-aed9-09ce6c499e01"
      },
      "outputs": [
        {
          "output_type": "stream",
          "name": "stdout",
          "text": [
            "嘉義縣未來 8 小時晴時多雲，最高溫 22 度，最低溫 17 度，降雨機率 22 %\n",
            "新北市未來 8 小時晴時多雲，最高溫 22 度，最低溫 19 度，降雨機率 22 %\n",
            "嘉義市未來 8 小時晴時多雲，最高溫 22 度，最低溫 17 度，降雨機率 22 %\n",
            "新竹縣未來 8 小時晴時多雲，最高溫 20 度，最低溫 17 度，降雨機率 20 %\n",
            "新竹市未來 8 小時晴時多雲，最高溫 20 度，最低溫 17 度，降雨機率 20 %\n",
            "臺北市未來 8 小時晴時多雲，最高溫 22 度，最低溫 19 度，降雨機率 22 %\n",
            "臺南市未來 8 小時晴時多雲，最高溫 23 度，最低溫 19 度，降雨機率 23 %\n",
            "宜蘭縣未來 8 小時晴時多雲，最高溫 20 度，最低溫 17 度，降雨機率 20 %\n",
            "苗栗縣未來 8 小時晴時多雲，最高溫 19 度，最低溫 15 度，降雨機率 19 %\n",
            "雲林縣未來 8 小時晴時多雲，最高溫 22 度，最低溫 17 度，降雨機率 22 %\n",
            "花蓮縣未來 8 小時多雲時晴，最高溫 22 度，最低溫 18 度，降雨機率 22 %\n",
            "臺中市未來 8 小時晴時多雲，最高溫 22 度，最低溫 18 度，降雨機率 22 %\n",
            "臺東縣未來 8 小時晴時多雲，最高溫 22 度，最低溫 19 度，降雨機率 22 %\n",
            "桃園市未來 8 小時晴時多雲，最高溫 21 度，最低溫 18 度，降雨機率 21 %\n",
            "南投縣未來 8 小時晴時多雲，最高溫 22 度，最低溫 17 度，降雨機率 22 %\n",
            "高雄市未來 8 小時晴時多雲，最高溫 25 度，最低溫 21 度，降雨機率 25 %\n",
            "金門縣未來 8 小時晴時多雲，最高溫 18 度，最低溫 15 度，降雨機率 18 %\n",
            "屏東縣未來 8 小時晴時多雲，最高溫 24 度，最低溫 18 度，降雨機率 24 %\n",
            "基隆市未來 8 小時晴時多雲，最高溫 21 度，最低溫 19 度，降雨機率 21 %\n",
            "澎湖縣未來 8 小時晴時多雲，最高溫 21 度，最低溫 20 度，降雨機率 21 %\n",
            "彰化縣未來 8 小時晴時多雲，最高溫 21 度，最低溫 17 度，降雨機率 21 %\n",
            "連江縣未來 8 小時晴時多雲，最高溫 17 度，最低溫 14 度，降雨機率 17 %\n"
          ]
        }
      ],
      "source": [
        "import json\n",
        "\n",
        "\n",
        "data = open('F-C0032-001.json',\"r\",encoding=\"utf-8\")\n",
        "\n",
        "output = json.load(data)\n",
        "location=output['records']['location']\n",
        "\n",
        "for i in location:\n",
        "    city = i['locationName']\n",
        "    wx = i['weatherElement'][0]['time'][0]['parameter']['parameterName']\n",
        "    maxtT = i['weatherElement'][4]['time'][0]['parameter']['parameterName']\n",
        "    mintT = i['weatherElement'][2]['time'][0]['parameter']['parameterName']\n",
        "    ci = i['weatherElement'][3]['time'][0]['parameter']['parameterName']\n",
        "    pop = i['weatherElement'][4]['time'][0]['parameter']['parameterName']\n",
        "    print(f'{city}未來 8 小時{wx}，最高溫 {maxtT} 度，最低溫 {mintT} 度，降雨機率 {pop} %')\n",
        "\n",
        "\n",
        "\n",
        "\n",
        "\n",
        "\n",
        "\n",
        "\n"
      ]
    }
  ]
}