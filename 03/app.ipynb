{
  "nbformat": 4,
  "nbformat_minor": 0,
  "metadata": {
    "colab": {
      "provenance": []
    },
    "kernelspec": {
      "name": "python3",
      "display_name": "Python 3"
    },
    "language_info": {
      "name": "python"
    }
  },
  "cells": [
    {
      "cell_type": "code",
      "execution_count": 1,
      "metadata": {
        "id": "DIXoGt5cP4hD"
      },
      "outputs": [],
      "source": [
        "#https://github.com/tdxmotc/SampleCode/blob/master/Python3/auth_TDX.py\n",
        "import requests\n",
        "from pprint import pprint\n",
        "import json\n",
        "\n",
        "app_id = 'XXX'\n",
        "app_key = 'XXX'\n",
        "\n",
        "auth_url=\"https://tdx.transportdata.tw/auth/realms/TDXConnect/protocol/openid-connect/token\"\n",
        "url = \"https://tdx.transportdata.tw/api/basic/v2/Rail/TRA/LiveTrainDelay?$top=30&$format=XML\"\n",
        "\n",
        "class Auth():\n",
        "    def __init__(self, app_id, app_key):\n",
        "        self.app_id = app_id\n",
        "        self.app_key = app_key\n",
        "    def get_auth_header(self):\n",
        "        content_type = 'application/x-www-form-urlencoded'\n",
        "        grant_type = 'client_credentials'\n",
        "        return{\n",
        "            'content-type' : content_type,\n",
        "            'grant_type' : grant_type,\n",
        "            'client_id' : self.app_id,\n",
        "            'client_secret' : self.app_key\n",
        "        }\n",
        "\n",
        "class data():\n",
        "\n",
        "    def __init__(self, app_id, app_key, auth_response):\n",
        "        self.app_id = app_id\n",
        "        self.app_key = app_key\n",
        "        self.auth_response = auth_response\n",
        "\n",
        "    def get_data_header(self):\n",
        "        auth_JSON = json.loads(self.auth_response.text)\n",
        "        access_token = auth_JSON.get('access_token')\n",
        "\n",
        "        return{\n",
        "            'authorization': 'Bearer '+access_token\n",
        "        }\n",
        "    def loadRSS():\n",
        "        # url of rss feed\n",
        "        #url = 'http://www.hindustantimes.com/rss/topnews/rssfeed.xml'\n",
        "\n",
        "        # creating HTTP response object from given url\n",
        "        resp = requests.get(url)\n",
        "\n",
        "        # saving the xml file\n",
        "        with open('topnewsfeed.xml', 'wb') as f:\n",
        "            f.write(resp.content)\n",
        "\n",
        "if __name__ == '__main__':\n",
        "    try:\n",
        "        d = data(app_id, app_key, auth_response)\n",
        "        data_response = requests.get(url, headers=d.get_data_header())\n",
        "    except:\n",
        "        a = Auth(app_id, app_key)\n",
        "        auth_response = requests.post(auth_url, a.get_auth_header())\n",
        "        d = data(app_id, app_key, auth_response)\n",
        "        data_response = requests.get(url, headers=d.get_data_header())\n",
        "        with open('topnewsfeed.xml', 'wb') as f:\n",
        "            f.write(data_response.content)"
      ]
    }
  ]
}