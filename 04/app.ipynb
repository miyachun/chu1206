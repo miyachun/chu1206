{
  "nbformat": 4,
  "nbformat_minor": 0,
  "metadata": {
    "colab": {
      "provenance": []
    },
    "kernelspec": {
      "name": "python3",
      "display_name": "Python 3"
    },
    "language_info": {
      "name": "python"
    }
  },
  "cells": [
    {
      "cell_type": "code",
      "source": [
        "!pip install sqlite3"
      ],
      "metadata": {
        "colab": {
          "base_uri": "https://localhost:8080/"
        },
        "id": "Ui84tCZ5q16L",
        "outputId": "ebbc8b9b-46ef-41be-e190-42a93beabd49"
      },
      "execution_count": 10,
      "outputs": [
        {
          "output_type": "stream",
          "name": "stdout",
          "text": [
            "\u001b[31mERROR: Could not find a version that satisfies the requirement sqlite3 (from versions: none)\u001b[0m\u001b[31m\n",
            "\u001b[0m\u001b[31mERROR: No matching distribution found for sqlite3\u001b[0m\u001b[31m\n",
            "\u001b[0m"
          ]
        }
      ]
    },
    {
      "cell_type": "code",
      "execution_count": 11,
      "metadata": {
        "colab": {
          "base_uri": "https://localhost:8080/"
        },
        "id": "o5JQbeJGqy3b",
        "outputId": "8ec05471-67fd-43ae-fcb6-180b11087d46"
      },
      "outputs": [
        {
          "output_type": "stream",
          "name": "stdout",
          "text": [
            "數據開啟成功\n"
          ]
        }
      ],
      "source": [
        "import sqlite3\n",
        "\n",
        "conn = sqlite3.connect('test.db')\n",
        "\n",
        "print (\"數據開啟成功\")"
      ]
    },
    {
      "cell_type": "code",
      "source": [
        "conn = sqlite3.connect('test.db')\n",
        "print (\"數據開啟成功\")\n",
        "c = conn.cursor()\n",
        "c.execute('''CREATE TABLE COMPANY\n",
        "       (ID INT PRIMARY KEY     NOT NULL,\n",
        "       NAME           TEXT    NOT NULL,\n",
        "       AGE            INT     NOT NULL,\n",
        "       ADDRESS        CHAR(50),\n",
        "       SALARY         REAL);''')\n",
        "print (\"表單建立成功\")\n",
        "conn.commit()\n",
        "conn.close()"
      ],
      "metadata": {
        "colab": {
          "base_uri": "https://localhost:8080/"
        },
        "id": "zCm0yV9OswJy",
        "outputId": "bf4c4a6b-af7a-4a1d-d32e-88692ef752e2"
      },
      "execution_count": 12,
      "outputs": [
        {
          "output_type": "stream",
          "name": "stdout",
          "text": [
            "數據開啟成功\n",
            "表單建立成功\n"
          ]
        }
      ]
    },
    {
      "cell_type": "code",
      "source": [
        "conn = sqlite3.connect('test.db')\n",
        "c = conn.cursor()\n",
        "print (\"數據開啟成功\")\n",
        "\n",
        "c.execute(\"INSERT INTO COMPANY (ID,NAME,AGE,ADDRESS,SALARY) \\\n",
        "      VALUES (1, '中文Paul!@#123', 32, 'California', 20000.00 )\")\n",
        "\n",
        "c.execute(\"INSERT INTO COMPANY (ID,NAME,AGE,ADDRESS,SALARY) \\\n",
        "      VALUES (2, 'Allen', 25, 'Texas', 15000.00 )\")\n",
        "\n",
        "c.execute(\"INSERT INTO COMPANY (ID,NAME,AGE,ADDRESS,SALARY) \\\n",
        "      VALUES (3, 'Teddy', 23, 'Norway', 20000.00 )\")\n",
        "\n",
        "c.execute(\"INSERT INTO COMPANY (ID,NAME,AGE,ADDRESS,SALARY) \\\n",
        "      VALUES (4, 'Mark', 25, 'Rich-Mond ', 65000.00 )\")\n",
        "\n",
        "conn.commit()\n",
        "print (\"資料新增成功\")\n",
        "conn.close()"
      ],
      "metadata": {
        "colab": {
          "base_uri": "https://localhost:8080/"
        },
        "id": "xWftFlYrs2sy",
        "outputId": "6e57c416-a5a2-48cd-e9ef-a3b03c448682"
      },
      "execution_count": 13,
      "outputs": [
        {
          "output_type": "stream",
          "name": "stdout",
          "text": [
            "數據開啟成功\n",
            "資料新增成功\n"
          ]
        }
      ]
    },
    {
      "cell_type": "code",
      "source": [
        "conn = sqlite3.connect('test.db')\n",
        "c = conn.cursor()\n",
        "print (\"數據開啟成功\")\n",
        "\n",
        "cursor = c.execute(\"SELECT id, name, address, salary  from COMPANY\")\n",
        "for row in cursor:\n",
        "   print (\"ID = \", row[0])\n",
        "   print (\"NAME = \", row[1])\n",
        "   print (\"ADDRESS = \", row[2])\n",
        "   print (\"SALARY = \", row[3], \"\\n\")\n",
        "\n",
        "print (\"資料查尋成功\")\n",
        "conn.close()"
      ],
      "metadata": {
        "colab": {
          "base_uri": "https://localhost:8080/"
        },
        "id": "8rL9JS-ns-g6",
        "outputId": "8d4aec41-887b-411a-f736-33924dec1f45"
      },
      "execution_count": 14,
      "outputs": [
        {
          "output_type": "stream",
          "name": "stdout",
          "text": [
            "數據開啟成功\n",
            "ID =  1\n",
            "NAME =  中文Paul!@#123\n",
            "ADDRESS =  California\n",
            "SALARY =  20000.0 \n",
            "\n",
            "ID =  2\n",
            "NAME =  Allen\n",
            "ADDRESS =  Texas\n",
            "SALARY =  15000.0 \n",
            "\n",
            "ID =  3\n",
            "NAME =  Teddy\n",
            "ADDRESS =  Norway\n",
            "SALARY =  20000.0 \n",
            "\n",
            "ID =  4\n",
            "NAME =  Mark\n",
            "ADDRESS =  Rich-Mond \n",
            "SALARY =  65000.0 \n",
            "\n",
            "資料查尋成功\n"
          ]
        }
      ]
    },
    {
      "cell_type": "code",
      "source": [
        "conn = sqlite3.connect('test.db')\n",
        "c = conn.cursor()\n",
        "print (\"數據開啟成功\")\n",
        "\n",
        "c.execute(\"UPDATE COMPANY set SALARY = 25000.00 where ID=1\")\n",
        "conn.commit()\n",
        "print (\"Total number of rows updated :\", conn.total_changes)\n",
        "\n",
        "cursor = conn.execute(\"SELECT id, name, address, salary  from COMPANY\")\n",
        "for row in cursor:\n",
        "   print (\"ID = \", row[0])\n",
        "   print (\"NAME = \", row[1])\n",
        "   print (\"ADDRESS = \", row[2])\n",
        "   print (\"SALARY = \", row[3], \"\\n\")\n",
        "\n",
        "print (\"資料查尋成功\")\n",
        "conn.close()"
      ],
      "metadata": {
        "colab": {
          "base_uri": "https://localhost:8080/"
        },
        "id": "3-Thmqjgs_Yq",
        "outputId": "1cb894b4-3071-459b-dec5-084913870226"
      },
      "execution_count": 15,
      "outputs": [
        {
          "output_type": "stream",
          "name": "stdout",
          "text": [
            "數據開啟成功\n",
            "Total number of rows updated : 1\n",
            "ID =  1\n",
            "NAME =  中文Paul!@#123\n",
            "ADDRESS =  California\n",
            "SALARY =  25000.0 \n",
            "\n",
            "ID =  2\n",
            "NAME =  Allen\n",
            "ADDRESS =  Texas\n",
            "SALARY =  15000.0 \n",
            "\n",
            "ID =  3\n",
            "NAME =  Teddy\n",
            "ADDRESS =  Norway\n",
            "SALARY =  20000.0 \n",
            "\n",
            "ID =  4\n",
            "NAME =  Mark\n",
            "ADDRESS =  Rich-Mond \n",
            "SALARY =  65000.0 \n",
            "\n",
            "資料查尋成功\n"
          ]
        }
      ]
    },
    {
      "cell_type": "code",
      "source": [
        "conn = sqlite3.connect('test.db')\n",
        "c = conn.cursor()\n",
        "print (\"數據開啟成功\")\n",
        "\n",
        "c.execute(\"DELETE from COMPANY where ID=2;\")\n",
        "conn.commit()\n",
        "print (\"Total number of rows deleted :\", conn.total_changes)\n",
        "\n",
        "cursor = conn.execute(\"SELECT id, name, address, salary  from COMPANY\")\n",
        "for row in cursor:\n",
        "   print (\"ID = \", row[0])\n",
        "   print (\"NAME = \", row[1])\n",
        "   print (\"ADDRESS = \", row[2])\n",
        "   print (\"SALARY = \", row[3], \"\\n\")\n",
        "\n",
        "print (\"資料查尋成功\")\n",
        "conn.close()"
      ],
      "metadata": {
        "colab": {
          "base_uri": "https://localhost:8080/"
        },
        "id": "N8ACd9N4tGd9",
        "outputId": "28771ed9-5bd5-415f-a53a-0e6ba73e1ba7"
      },
      "execution_count": 16,
      "outputs": [
        {
          "output_type": "stream",
          "name": "stdout",
          "text": [
            "數據開啟成功\n",
            "Total number of rows deleted : 1\n",
            "ID =  1\n",
            "NAME =  中文Paul!@#123\n",
            "ADDRESS =  California\n",
            "SALARY =  25000.0 \n",
            "\n",
            "ID =  3\n",
            "NAME =  Teddy\n",
            "ADDRESS =  Norway\n",
            "SALARY =  20000.0 \n",
            "\n",
            "ID =  4\n",
            "NAME =  Mark\n",
            "ADDRESS =  Rich-Mond \n",
            "SALARY =  65000.0 \n",
            "\n",
            "資料查尋成功\n"
          ]
        }
      ]
    }
  ]
}