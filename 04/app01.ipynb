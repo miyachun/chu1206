{
  "nbformat": 4,
  "nbformat_minor": 0,
  "metadata": {
    "colab": {
      "provenance": []
    },
    "kernelspec": {
      "name": "python3",
      "display_name": "Python 3"
    },
    "language_info": {
      "name": "python"
    }
  },
  "cells": [
    {
      "cell_type": "code",
      "source": [
        "!pip install flask\n",
        "!pip install flask-ngrok\n",
        "!pip install pyngrok\n",
        "!ngrok authtoken xxx"
      ],
      "metadata": {
        "colab": {
          "base_uri": "https://localhost:8080/"
        },
        "id": "w-P7xN05yfwq",
        "outputId": "9fef165b-7fd2-4ab5-c26c-8f216e395696"
      },
      "execution_count": 1,
      "outputs": [
        {
          "output_type": "stream",
          "name": "stdout",
          "text": [
            "Requirement already satisfied: flask in /usr/local/lib/python3.10/dist-packages (2.2.5)\n",
            "Requirement already satisfied: Werkzeug>=2.2.2 in /usr/local/lib/python3.10/dist-packages (from flask) (3.0.1)\n",
            "Requirement already satisfied: Jinja2>=3.0 in /usr/local/lib/python3.10/dist-packages (from flask) (3.1.2)\n",
            "Requirement already satisfied: itsdangerous>=2.0 in /usr/local/lib/python3.10/dist-packages (from flask) (2.1.2)\n",
            "Requirement already satisfied: click>=8.0 in /usr/local/lib/python3.10/dist-packages (from flask) (8.1.7)\n",
            "Requirement already satisfied: MarkupSafe>=2.0 in /usr/local/lib/python3.10/dist-packages (from Jinja2>=3.0->flask) (2.1.3)\n",
            "Collecting flask-ngrok\n",
            "  Downloading flask_ngrok-0.0.25-py3-none-any.whl (3.1 kB)\n",
            "Requirement already satisfied: Flask>=0.8 in /usr/local/lib/python3.10/dist-packages (from flask-ngrok) (2.2.5)\n",
            "Requirement already satisfied: requests in /usr/local/lib/python3.10/dist-packages (from flask-ngrok) (2.31.0)\n",
            "Requirement already satisfied: Werkzeug>=2.2.2 in /usr/local/lib/python3.10/dist-packages (from Flask>=0.8->flask-ngrok) (3.0.1)\n",
            "Requirement already satisfied: Jinja2>=3.0 in /usr/local/lib/python3.10/dist-packages (from Flask>=0.8->flask-ngrok) (3.1.2)\n",
            "Requirement already satisfied: itsdangerous>=2.0 in /usr/local/lib/python3.10/dist-packages (from Flask>=0.8->flask-ngrok) (2.1.2)\n",
            "Requirement already satisfied: click>=8.0 in /usr/local/lib/python3.10/dist-packages (from Flask>=0.8->flask-ngrok) (8.1.7)\n",
            "Requirement already satisfied: charset-normalizer<4,>=2 in /usr/local/lib/python3.10/dist-packages (from requests->flask-ngrok) (3.3.2)\n",
            "Requirement already satisfied: idna<4,>=2.5 in /usr/local/lib/python3.10/dist-packages (from requests->flask-ngrok) (3.6)\n",
            "Requirement already satisfied: urllib3<3,>=1.21.1 in /usr/local/lib/python3.10/dist-packages (from requests->flask-ngrok) (2.0.7)\n",
            "Requirement already satisfied: certifi>=2017.4.17 in /usr/local/lib/python3.10/dist-packages (from requests->flask-ngrok) (2023.11.17)\n",
            "Requirement already satisfied: MarkupSafe>=2.0 in /usr/local/lib/python3.10/dist-packages (from Jinja2>=3.0->Flask>=0.8->flask-ngrok) (2.1.3)\n",
            "Installing collected packages: flask-ngrok\n",
            "Successfully installed flask-ngrok-0.0.25\n",
            "Collecting pyngrok\n",
            "  Downloading pyngrok-7.0.2.tar.gz (732 kB)\n",
            "\u001b[2K     \u001b[90m━━━━━━━━━━━━━━━━━━━━━━━━━━━━━━━━━━━━━━━━\u001b[0m \u001b[32m732.2/732.2 kB\u001b[0m \u001b[31m10.2 MB/s\u001b[0m eta \u001b[36m0:00:00\u001b[0m\n",
            "\u001b[?25h  Preparing metadata (setup.py) ... \u001b[?25l\u001b[?25hdone\n",
            "Requirement already satisfied: PyYAML in /usr/local/lib/python3.10/dist-packages (from pyngrok) (6.0.1)\n",
            "Building wheels for collected packages: pyngrok\n",
            "  Building wheel for pyngrok (setup.py) ... \u001b[?25l\u001b[?25hdone\n",
            "  Created wheel for pyngrok: filename=pyngrok-7.0.2-py3-none-any.whl size=21233 sha256=07ac99ca9ee9e76a34d5fd640be91a5d20afef93cebbee0c8ffe23042b8461bc\n",
            "  Stored in directory: /root/.cache/pip/wheels/63/3f/ca/3ee63fa3bf9dfcf6014bb5ea56026c8b218ad26b422fd9cce1\n",
            "Successfully built pyngrok\n",
            "Installing collected packages: pyngrok\n",
            "Successfully installed pyngrok-7.0.2\n",
            "Authtoken saved to configuration file: /root/.config/ngrok/ngrok.yml\n"
          ]
        }
      ]
    },
    {
      "cell_type": "code",
      "source": [
        "from flask import Flask, render_template, request, url_for, flash, redirect, abort\n",
        "import sqlite3\n",
        "import os\n",
        "import threading\n",
        "import json,urllib.request\n",
        "from pyngrok import ngrok\n",
        "\n",
        "app = Flask(__name__)\n",
        "port = \"5000\"\n",
        "\n",
        "\n",
        "public_url = ngrok.connect(port).public_url\n",
        "print(\" * ngrok tunnel \\\"{}\\\" -> \\\"http://127.0.0.1:{}\\\"\".format(public_url, port))\n",
        "\n",
        "\n",
        "app.config[\"BASE_URL\"] = public_url\n",
        "\n",
        "app = Flask(__name__)\n",
        "app.secret_key = 'super secret key'\n",
        "app.config['SESSION_TYPE'] = 'filesystem'\n",
        "\n",
        "def get_db_connection():\n",
        "    conn = sqlite3.connect('test.db')\n",
        "    conn.row_factory = sqlite3.Row\n",
        "    return conn\n",
        "\n",
        "\n",
        "@app.route('/')\n",
        "def index():\n",
        "    conn = get_db_connection()\n",
        "    posts = conn.execute('SELECT * FROM COMPANY').fetchall()\n",
        "    conn.close()\n",
        "    return render_template('index.html', posts=posts)\n",
        "\n",
        "@app.route('/create', methods=('GET', 'POST'))\n",
        "def create():\n",
        "    if request.method == 'POST':\n",
        "        ID = request.form['ID']\n",
        "        NAME = request.form['NAME']\n",
        "        AGE = request.form['AGE']\n",
        "        ADDRESS = request.form['ADDRESS']\n",
        "        SALARY = request.form['SALARY']\n",
        "\n",
        "        if not ID:\n",
        "            flash('Title is required!')\n",
        "        elif not NAME :\n",
        "            flash('Content is required!')\n",
        "        else:\n",
        "            conn = get_db_connection()\n",
        "            conn.execute('INSERT INTO COMPANY (ID, NAME, AGE, ADDRESS, SALARY ) VALUES (?, ?, ?, ?, ?)',\n",
        "                         (ID, NAME, AGE, ADDRESS, SALARY ))\n",
        "            conn.commit()\n",
        "            conn.close()\n",
        "            return redirect(url_for('index'))\n",
        "\n",
        "    return render_template('create.html')\n",
        "\n",
        "\n",
        "def get_post(post_id):\n",
        "    conn = get_db_connection()\n",
        "    post = conn.execute('SELECT * FROM COMPANY WHERE ID = ?',\n",
        "                        (post_id,)).fetchone()\n",
        "    conn.close()\n",
        "    if post is None:\n",
        "        abort(404)\n",
        "    return post\n",
        "\n",
        "@app.route('/<int:id>/edit/', methods=('GET', 'POST'))\n",
        "def edit(id):\n",
        "    post = get_post(id)\n",
        "\n",
        "    if request.method == 'POST':\n",
        "\n",
        "\n",
        "        NAME = request.form['NAME']\n",
        "        AGE = request.form['AGE']\n",
        "        ADDRESS = request.form['ADDRESS']\n",
        "        SALARY = request.form['SALARY']\n",
        "        if not NAME:\n",
        "            flash('Title is required!')\n",
        "        elif not AGE :\n",
        "            flash('Content is required!')\n",
        "        else:\n",
        "            conn = get_db_connection()\n",
        "            conn.execute('UPDATE COMPANY SET NAME = ?, AGE = ?, ADDRESS = ?, SALARY = ?'\n",
        "                         ' WHERE ID = ?',\n",
        "                         ( NAME, AGE, ADDRESS, SALARY, id))\n",
        "\n",
        "            conn.commit()\n",
        "            conn.close()\n",
        "            return redirect(url_for('index'))\n",
        "\n",
        "    return render_template('edit.html', post=post)\n",
        "\n",
        "@app.route('/<int:id>/delete/', methods=('POST',))\n",
        "def delete(id):\n",
        "    post = get_post(id)\n",
        "    conn = get_db_connection()\n",
        "    conn.execute('DELETE FROM COMPANY WHERE ID = ?', (id,))\n",
        "    conn.commit()\n",
        "    conn.close()\n",
        "    flash('was successfully deleted!')\n",
        "    return redirect(url_for('index'))\n",
        "\n",
        "\n",
        "threading.Thread(target=app.run, kwargs={\"use_reloader\": False}).start()"
      ],
      "metadata": {
        "colab": {
          "base_uri": "https://localhost:8080/"
        },
        "id": "zaCEOc3eygnp",
        "outputId": "093b0b20-67a3-4c82-e700-ec70c438c890"
      },
      "execution_count": 2,
      "outputs": [
        {
          "output_type": "stream",
          "name": "stdout",
          "text": [
            " * ngrok tunnel \"https://5f97-34-139-252-42.ngrok-free.app\" -> \"http://127.0.0.1:5000\"\n",
            " * Serving Flask app '__main__'\n"
          ]
        }
      ]
    }
  ]
}